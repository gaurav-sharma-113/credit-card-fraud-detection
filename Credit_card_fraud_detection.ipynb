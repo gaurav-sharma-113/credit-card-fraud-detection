{
  "nbformat": 4,
  "nbformat_minor": 0,
  "metadata": {
    "colab": {
      "name": "Credit card fraud detection.ipynb",
      "provenance": [],
      "toc_visible": true
    },
    "kernelspec": {
      "name": "python3",
      "display_name": "Python 3"
    }
  },
  "cells": [
    {
      "cell_type": "markdown",
      "metadata": {
        "id": "VOCbrCPH2XfP"
      },
      "source": [
        "# Credit card fraud detection\n",
        "\n",
        "The dataset that we use is the credit card transaction dastaset. We do a preliminary Exploratory Data Analysis (EDA), and then try to spot duplicate transactions. These are identified as transactions which are:\n",
        "\n",
        "\n",
        "*   Reversed: a purchase is followed by reversal\n",
        "*   Multiple-swipe: a vendor accidently charges a customer's card multiple times within a short span of time\n",
        "\n",
        "The goal is to identify this and observe the pattern, if any. \n",
        "\n",
        "Then the next goal is to build a model that can determine if the transaction will be fraudulent or not. We are using different models (though basic ones) for modeling and analysis. \n",
        "\n"
      ]
    },
    {
      "cell_type": "markdown",
      "metadata": {
        "id": "ZSZwyMXgsqJ9"
      },
      "source": [
        "# Importing the libraries"
      ]
    },
    {
      "cell_type": "code",
      "metadata": {
        "id": "7pA8zoRhrkQ4",
        "colab": {
          "base_uri": "https://localhost:8080/"
        },
        "outputId": "7476a8b9-fa2b-46bf-ec9e-66dad350e7ec"
      },
      "source": [
        "import os\n",
        "import pandas as pd\n",
        "import json\n",
        "import numpy as np\n",
        "import matplotlib.pyplot as plt\n",
        "import datetime\n",
        "import seaborn as sns\n",
        "from sklearn.preprocessing import StandardScaler\n",
        "from imblearn.over_sampling import SMOTE\n",
        "from sklearn.preprocessing import StandardScaler\n",
        "from sklearn.model_selection import train_test_split, cross_val_score\n",
        "from sklearn.metrics import confusion_matrix, precision_score ,auc, roc_curve, accuracy_score\n",
        "from sklearn import svm, tree, linear_model, neighbors, naive_bayes, ensemble, discriminant_analysis, neural_network\n",
        "import xgboost as xgb\n",
        "from imblearn.under_sampling import RandomUnderSampler\n",
        "import tensorflow as tf\n",
        "from keras.models import Sequential\n",
        "from keras.layers import Dense\n",
        "from scipy.special import softmax\n",
        "from scipy.special import expit"
      ],
      "execution_count": null,
      "outputs": [
        {
          "output_type": "stream",
          "text": [
            "/usr/local/lib/python3.6/dist-packages/sklearn/externals/six.py:31: FutureWarning: The module is deprecated in version 0.21 and will be removed in version 0.23 since we've dropped support for Python 2.7. Please rely on the official version of six (https://pypi.org/project/six/).\n",
            "  \"(https://pypi.org/project/six/).\", FutureWarning)\n",
            "/usr/local/lib/python3.6/dist-packages/sklearn/utils/deprecation.py:144: FutureWarning: The sklearn.neighbors.base module is  deprecated in version 0.22 and will be removed in version 0.24. The corresponding classes / functions should instead be imported from sklearn.neighbors. Anything that cannot be imported from sklearn.neighbors is now part of the private API.\n",
            "  warnings.warn(message, FutureWarning)\n"
          ],
          "name": "stderr"
        }
      ]
    },
    {
      "cell_type": "code",
      "metadata": {
        "id": "93TrhUWUOi3R"
      },
      "source": [
        "import warnings\n",
        "warnings.filterwarnings(\"ignore\")"
      ],
      "execution_count": null,
      "outputs": []
    },
    {
      "cell_type": "markdown",
      "metadata": {
        "id": "ncHc7g6HrKfR"
      },
      "source": [
        "# Notebook setup : mounting the drive"
      ]
    },
    {
      "cell_type": "code",
      "metadata": {
        "id": "F-6K-6TlBFWc",
        "colab": {
          "base_uri": "https://localhost:8080/"
        },
        "outputId": "97d1c179-0b82-47d8-a9d2-d578bb97c7e6"
      },
      "source": [
        "from google.colab import drive\n",
        "drive.mount('/content/gdrive')\n"
      ],
      "execution_count": null,
      "outputs": [
        {
          "output_type": "stream",
          "text": [
            "Drive already mounted at /content/gdrive; to attempt to forcibly remount, call drive.mount(\"/content/gdrive\", force_remount=True).\n"
          ],
          "name": "stdout"
        }
      ]
    },
    {
      "cell_type": "markdown",
      "metadata": {
        "id": "jxqJPy1wr30v"
      },
      "source": [
        "## Run this cell once in every instance : To change the current directory to the data set folder"
      ]
    },
    {
      "cell_type": "code",
      "metadata": {
        "colab": {
          "base_uri": "https://localhost:8080/"
        },
        "id": "eLuaTGIAraGz",
        "outputId": "cc55bbdb-8b3a-456d-f491-4ba6eece8771"
      },
      "source": [
        "path = os.getcwd()\n",
        "path += '/DS'\n",
        "os.chdir(path)\n",
        "print(os.getcwd())"
      ],
      "execution_count": null,
      "outputs": [
        {
          "output_type": "stream",
          "text": [
            "/content/DS\n"
          ],
          "name": "stdout"
        }
      ]
    },
    {
      "cell_type": "markdown",
      "metadata": {
        "id": "s1QGA8XwsOXY"
      },
      "source": [
        "## Unzipping the data file"
      ]
    },
    {
      "cell_type": "code",
      "metadata": {
        "colab": {
          "base_uri": "https://localhost:8080/"
        },
        "id": "sG1ByPqCrdog",
        "outputId": "158626a3-3634-4599-eff9-7e21afb0ad53"
      },
      "source": [
        "!unzip transactions.zip"
      ],
      "execution_count": null,
      "outputs": [
        {
          "output_type": "stream",
          "text": [
            "Archive:  transactions.zip\n",
            "replace transactions.txt? [y]es, [n]o, [A]ll, [N]one, [r]ename: Y\n",
            "  inflating: transactions.txt        \n"
          ],
          "name": "stdout"
        }
      ]
    },
    {
      "cell_type": "markdown",
      "metadata": {
        "id": "RPROv0FHsbqv"
      },
      "source": [
        "# Exploring the dataset"
      ]
    },
    {
      "cell_type": "code",
      "metadata": {
        "id": "WlEqjY-SsD99"
      },
      "source": [
        "filename = 'transactions.txt'\n",
        "with open(filename) as f:\n",
        "    data = pd.DataFrame(json.loads(line) for line in f)"
      ],
      "execution_count": null,
      "outputs": []
    },
    {
      "cell_type": "markdown",
      "metadata": {
        "id": "FNTU3MjZtcZU"
      },
      "source": [
        "## Analysing the data"
      ]
    },
    {
      "cell_type": "markdown",
      "metadata": {
        "id": "kFcA6Y-Itg_d"
      },
      "source": [
        "### First look of dataset (first 5 rows)"
      ]
    },
    {
      "cell_type": "code",
      "metadata": {
        "colab": {
          "base_uri": "https://localhost:8080/",
          "height": 241
        },
        "id": "Sm2_oK61skBv",
        "outputId": "21f3e38d-9841-4509-e0c0-e246ae0f0335"
      },
      "source": [
        "data.head()"
      ],
      "execution_count": null,
      "outputs": [
        {
          "output_type": "execute_result",
          "data": {
            "text/html": [
              "<div>\n",
              "<style scoped>\n",
              "    .dataframe tbody tr th:only-of-type {\n",
              "        vertical-align: middle;\n",
              "    }\n",
              "\n",
              "    .dataframe tbody tr th {\n",
              "        vertical-align: top;\n",
              "    }\n",
              "\n",
              "    .dataframe thead th {\n",
              "        text-align: right;\n",
              "    }\n",
              "</style>\n",
              "<table border=\"1\" class=\"dataframe\">\n",
              "  <thead>\n",
              "    <tr style=\"text-align: right;\">\n",
              "      <th></th>\n",
              "      <th>accountNumber</th>\n",
              "      <th>customerId</th>\n",
              "      <th>creditLimit</th>\n",
              "      <th>availableMoney</th>\n",
              "      <th>transactionDateTime</th>\n",
              "      <th>transactionAmount</th>\n",
              "      <th>merchantName</th>\n",
              "      <th>acqCountry</th>\n",
              "      <th>merchantCountryCode</th>\n",
              "      <th>posEntryMode</th>\n",
              "      <th>posConditionCode</th>\n",
              "      <th>merchantCategoryCode</th>\n",
              "      <th>currentExpDate</th>\n",
              "      <th>accountOpenDate</th>\n",
              "      <th>dateOfLastAddressChange</th>\n",
              "      <th>cardCVV</th>\n",
              "      <th>enteredCVV</th>\n",
              "      <th>cardLast4Digits</th>\n",
              "      <th>transactionType</th>\n",
              "      <th>echoBuffer</th>\n",
              "      <th>currentBalance</th>\n",
              "      <th>merchantCity</th>\n",
              "      <th>merchantState</th>\n",
              "      <th>merchantZip</th>\n",
              "      <th>cardPresent</th>\n",
              "      <th>posOnPremises</th>\n",
              "      <th>recurringAuthInd</th>\n",
              "      <th>expirationDateKeyInMatch</th>\n",
              "      <th>isFraud</th>\n",
              "    </tr>\n",
              "  </thead>\n",
              "  <tbody>\n",
              "    <tr>\n",
              "      <th>0</th>\n",
              "      <td>737265056</td>\n",
              "      <td>737265056</td>\n",
              "      <td>5000.0</td>\n",
              "      <td>5000.0</td>\n",
              "      <td>2016-08-13T14:27:32</td>\n",
              "      <td>98.55</td>\n",
              "      <td>Uber</td>\n",
              "      <td>US</td>\n",
              "      <td>US</td>\n",
              "      <td>02</td>\n",
              "      <td>01</td>\n",
              "      <td>rideshare</td>\n",
              "      <td>06/2023</td>\n",
              "      <td>2015-03-14</td>\n",
              "      <td>2015-03-14</td>\n",
              "      <td>414</td>\n",
              "      <td>414</td>\n",
              "      <td>1803</td>\n",
              "      <td>PURCHASE</td>\n",
              "      <td></td>\n",
              "      <td>0.0</td>\n",
              "      <td></td>\n",
              "      <td></td>\n",
              "      <td></td>\n",
              "      <td>False</td>\n",
              "      <td></td>\n",
              "      <td></td>\n",
              "      <td>False</td>\n",
              "      <td>False</td>\n",
              "    </tr>\n",
              "    <tr>\n",
              "      <th>1</th>\n",
              "      <td>737265056</td>\n",
              "      <td>737265056</td>\n",
              "      <td>5000.0</td>\n",
              "      <td>5000.0</td>\n",
              "      <td>2016-10-11T05:05:54</td>\n",
              "      <td>74.51</td>\n",
              "      <td>AMC #191138</td>\n",
              "      <td>US</td>\n",
              "      <td>US</td>\n",
              "      <td>09</td>\n",
              "      <td>01</td>\n",
              "      <td>entertainment</td>\n",
              "      <td>02/2024</td>\n",
              "      <td>2015-03-14</td>\n",
              "      <td>2015-03-14</td>\n",
              "      <td>486</td>\n",
              "      <td>486</td>\n",
              "      <td>767</td>\n",
              "      <td>PURCHASE</td>\n",
              "      <td></td>\n",
              "      <td>0.0</td>\n",
              "      <td></td>\n",
              "      <td></td>\n",
              "      <td></td>\n",
              "      <td>True</td>\n",
              "      <td></td>\n",
              "      <td></td>\n",
              "      <td>False</td>\n",
              "      <td>False</td>\n",
              "    </tr>\n",
              "    <tr>\n",
              "      <th>2</th>\n",
              "      <td>737265056</td>\n",
              "      <td>737265056</td>\n",
              "      <td>5000.0</td>\n",
              "      <td>5000.0</td>\n",
              "      <td>2016-11-08T09:18:39</td>\n",
              "      <td>7.47</td>\n",
              "      <td>Play Store</td>\n",
              "      <td>US</td>\n",
              "      <td>US</td>\n",
              "      <td>09</td>\n",
              "      <td>01</td>\n",
              "      <td>mobileapps</td>\n",
              "      <td>08/2025</td>\n",
              "      <td>2015-03-14</td>\n",
              "      <td>2015-03-14</td>\n",
              "      <td>486</td>\n",
              "      <td>486</td>\n",
              "      <td>767</td>\n",
              "      <td>PURCHASE</td>\n",
              "      <td></td>\n",
              "      <td>0.0</td>\n",
              "      <td></td>\n",
              "      <td></td>\n",
              "      <td></td>\n",
              "      <td>False</td>\n",
              "      <td></td>\n",
              "      <td></td>\n",
              "      <td>False</td>\n",
              "      <td>False</td>\n",
              "    </tr>\n",
              "    <tr>\n",
              "      <th>3</th>\n",
              "      <td>737265056</td>\n",
              "      <td>737265056</td>\n",
              "      <td>5000.0</td>\n",
              "      <td>5000.0</td>\n",
              "      <td>2016-12-10T02:14:50</td>\n",
              "      <td>7.47</td>\n",
              "      <td>Play Store</td>\n",
              "      <td>US</td>\n",
              "      <td>US</td>\n",
              "      <td>09</td>\n",
              "      <td>01</td>\n",
              "      <td>mobileapps</td>\n",
              "      <td>08/2025</td>\n",
              "      <td>2015-03-14</td>\n",
              "      <td>2015-03-14</td>\n",
              "      <td>486</td>\n",
              "      <td>486</td>\n",
              "      <td>767</td>\n",
              "      <td>PURCHASE</td>\n",
              "      <td></td>\n",
              "      <td>0.0</td>\n",
              "      <td></td>\n",
              "      <td></td>\n",
              "      <td></td>\n",
              "      <td>False</td>\n",
              "      <td></td>\n",
              "      <td></td>\n",
              "      <td>False</td>\n",
              "      <td>False</td>\n",
              "    </tr>\n",
              "    <tr>\n",
              "      <th>4</th>\n",
              "      <td>830329091</td>\n",
              "      <td>830329091</td>\n",
              "      <td>5000.0</td>\n",
              "      <td>5000.0</td>\n",
              "      <td>2016-03-24T21:04:46</td>\n",
              "      <td>71.18</td>\n",
              "      <td>Tim Hortons #947751</td>\n",
              "      <td>US</td>\n",
              "      <td>US</td>\n",
              "      <td>02</td>\n",
              "      <td>01</td>\n",
              "      <td>fastfood</td>\n",
              "      <td>10/2029</td>\n",
              "      <td>2015-08-06</td>\n",
              "      <td>2015-08-06</td>\n",
              "      <td>885</td>\n",
              "      <td>885</td>\n",
              "      <td>3143</td>\n",
              "      <td>PURCHASE</td>\n",
              "      <td></td>\n",
              "      <td>0.0</td>\n",
              "      <td></td>\n",
              "      <td></td>\n",
              "      <td></td>\n",
              "      <td>True</td>\n",
              "      <td></td>\n",
              "      <td></td>\n",
              "      <td>False</td>\n",
              "      <td>False</td>\n",
              "    </tr>\n",
              "  </tbody>\n",
              "</table>\n",
              "</div>"
            ],
            "text/plain": [
              "  accountNumber customerId  ...  expirationDateKeyInMatch  isFraud\n",
              "0     737265056  737265056  ...                     False    False\n",
              "1     737265056  737265056  ...                     False    False\n",
              "2     737265056  737265056  ...                     False    False\n",
              "3     737265056  737265056  ...                     False    False\n",
              "4     830329091  830329091  ...                     False    False\n",
              "\n",
              "[5 rows x 29 columns]"
            ]
          },
          "metadata": {
            "tags": []
          },
          "execution_count": 9
        }
      ]
    },
    {
      "cell_type": "code",
      "metadata": {
        "id": "bbiXQtlbB4Es",
        "colab": {
          "base_uri": "https://localhost:8080/"
        },
        "outputId": "7b0a8e45-c7ef-4054-fe21-83bf8e2f554e"
      },
      "source": [
        "# Make a dictionary of columns and numbers\n",
        "columns = {}\n",
        "for i,cols in enumerate(data.columns):\n",
        "    columns[i] = cols\n",
        "\n",
        "print(\"Columns in the dataset:\")\n",
        "for k,v in columns.items():\n",
        "    print(k, \":\", v)"
      ],
      "execution_count": null,
      "outputs": [
        {
          "output_type": "stream",
          "text": [
            "Columns in the dataset:\n",
            "0 : accountNumber\n",
            "1 : customerId\n",
            "2 : creditLimit\n",
            "3 : availableMoney\n",
            "4 : transactionDateTime\n",
            "5 : transactionAmount\n",
            "6 : merchantName\n",
            "7 : acqCountry\n",
            "8 : merchantCountryCode\n",
            "9 : posEntryMode\n",
            "10 : posConditionCode\n",
            "11 : merchantCategoryCode\n",
            "12 : currentExpDate\n",
            "13 : accountOpenDate\n",
            "14 : dateOfLastAddressChange\n",
            "15 : cardCVV\n",
            "16 : enteredCVV\n",
            "17 : cardLast4Digits\n",
            "18 : transactionType\n",
            "19 : echoBuffer\n",
            "20 : currentBalance\n",
            "21 : merchantCity\n",
            "22 : merchantState\n",
            "23 : merchantZip\n",
            "24 : cardPresent\n",
            "25 : posOnPremises\n",
            "26 : recurringAuthInd\n",
            "27 : expirationDateKeyInMatch\n",
            "28 : isFraud\n"
          ],
          "name": "stdout"
        }
      ]
    },
    {
      "cell_type": "markdown",
      "metadata": {
        "id": "bzB2XAiJu1P9"
      },
      "source": [
        "### Columns and their datatypes"
      ]
    },
    {
      "cell_type": "code",
      "metadata": {
        "colab": {
          "base_uri": "https://localhost:8080/"
        },
        "id": "zLfUTyHzsxWS",
        "outputId": "8b69e6d4-a941-4167-f05b-f33034730714"
      },
      "source": [
        "print(\"Summary of the data\")\n",
        "print(data.info(verbose=True))\n",
        "print(\"Number of elements in the data: \", data.size)"
      ],
      "execution_count": null,
      "outputs": [
        {
          "output_type": "stream",
          "text": [
            "Summary of the data\n",
            "<class 'pandas.core.frame.DataFrame'>\n",
            "RangeIndex: 786363 entries, 0 to 786362\n",
            "Data columns (total 29 columns):\n",
            " #   Column                    Non-Null Count   Dtype  \n",
            "---  ------                    --------------   -----  \n",
            " 0   accountNumber             786363 non-null  object \n",
            " 1   customerId                786363 non-null  object \n",
            " 2   creditLimit               786363 non-null  float64\n",
            " 3   availableMoney            786363 non-null  float64\n",
            " 4   transactionDateTime       786363 non-null  object \n",
            " 5   transactionAmount         786363 non-null  float64\n",
            " 6   merchantName              786363 non-null  object \n",
            " 7   acqCountry                786363 non-null  object \n",
            " 8   merchantCountryCode       786363 non-null  object \n",
            " 9   posEntryMode              786363 non-null  object \n",
            " 10  posConditionCode          786363 non-null  object \n",
            " 11  merchantCategoryCode      786363 non-null  object \n",
            " 12  currentExpDate            786363 non-null  object \n",
            " 13  accountOpenDate           786363 non-null  object \n",
            " 14  dateOfLastAddressChange   786363 non-null  object \n",
            " 15  cardCVV                   786363 non-null  object \n",
            " 16  enteredCVV                786363 non-null  object \n",
            " 17  cardLast4Digits           786363 non-null  object \n",
            " 18  transactionType           786363 non-null  object \n",
            " 19  echoBuffer                786363 non-null  object \n",
            " 20  currentBalance            786363 non-null  float64\n",
            " 21  merchantCity              786363 non-null  object \n",
            " 22  merchantState             786363 non-null  object \n",
            " 23  merchantZip               786363 non-null  object \n",
            " 24  cardPresent               786363 non-null  bool   \n",
            " 25  posOnPremises             786363 non-null  object \n",
            " 26  recurringAuthInd          786363 non-null  object \n",
            " 27  expirationDateKeyInMatch  786363 non-null  bool   \n",
            " 28  isFraud                   786363 non-null  bool   \n",
            "dtypes: bool(3), float64(4), object(22)\n",
            "memory usage: 158.2+ MB\n",
            "None\n",
            "Number of elements in the data:  22804527\n"
          ],
          "name": "stdout"
        }
      ]
    },
    {
      "cell_type": "markdown",
      "metadata": {
        "id": "Hls_jjp5wh8p"
      },
      "source": [
        "There are 786,363 entries in the dataset, with 29 columns. \n",
        "\n",
        "There is no null value from this information but we will verify this in subsequent cells if any of the columns contains empty values or not. According to this information, every column contains a value and the total entries in the data are 29*786,363 = 22,804,527. \n",
        "\n",
        "The dataset contains 4 columns which have numerical values, 3 columns with boolean values while others are of pandas \"object\" data type, which is python string datatype mainly used for text. Hence, we can summarize the datatypes of the data as : \n",
        "\n",
        "*   3 columns of boolean type\n",
        "*   4 columns of numerical (float) type\n",
        "*   22 columns of textual (pandas object/python string) type\n",
        "\n"
      ]
    },
    {
      "cell_type": "code",
      "metadata": {
        "colab": {
          "base_uri": "https://localhost:8080/"
        },
        "id": "cJVHDuDR3_YR",
        "outputId": "b0acd4dc-7cf2-4354-8f8b-b0df274a209a"
      },
      "source": [
        "print(\"Memory usage by each column (in Bytes)\")\n",
        "print(data.memory_usage(index=False))"
      ],
      "execution_count": null,
      "outputs": [
        {
          "output_type": "stream",
          "text": [
            "Memory usage by each column (in Bytes)\n",
            "accountNumber               6290904\n",
            "customerId                  6290904\n",
            "creditLimit                 6290904\n",
            "availableMoney              6290904\n",
            "transactionDateTime         6290904\n",
            "transactionAmount           6290904\n",
            "merchantName                6290904\n",
            "acqCountry                  6290904\n",
            "merchantCountryCode         6290904\n",
            "posEntryMode                6290904\n",
            "posConditionCode            6290904\n",
            "merchantCategoryCode        6290904\n",
            "currentExpDate              6290904\n",
            "accountOpenDate             6290904\n",
            "dateOfLastAddressChange     6290904\n",
            "cardCVV                     6290904\n",
            "enteredCVV                  6290904\n",
            "cardLast4Digits             6290904\n",
            "transactionType             6290904\n",
            "echoBuffer                  6290904\n",
            "currentBalance              6290904\n",
            "merchantCity                6290904\n",
            "merchantState               6290904\n",
            "merchantZip                 6290904\n",
            "cardPresent                  786363\n",
            "posOnPremises               6290904\n",
            "recurringAuthInd            6290904\n",
            "expirationDateKeyInMatch     786363\n",
            "isFraud                      786363\n",
            "dtype: int64\n"
          ],
          "name": "stdout"
        }
      ]
    },
    {
      "cell_type": "markdown",
      "metadata": {
        "id": "YAj8K66KPs14"
      },
      "source": [
        "### Structure of data\n"
      ]
    },
    {
      "cell_type": "markdown",
      "metadata": {
        "id": "w3zafOhuPy4b"
      },
      "source": [
        "We find the patterns in the dataset in the following cells. First, we find number of unique values in each column. \n",
        "Then we check again if the columns contain empty values and find the columns which do. This is done in the dictionary that is named as : \"columns_list\"\n",
        "\n",
        "Next, we get the statistics of numerical columns. We get their total value, mean, std deviation, min, max and all quartiles. \n"
      ]
    },
    {
      "cell_type": "code",
      "metadata": {
        "colab": {
          "base_uri": "https://localhost:8080/"
        },
        "id": "-XF-9EjUxdSv",
        "outputId": "f7bc3be0-c072-4f68-a1bc-e6dc0f3481a7"
      },
      "source": [
        " print(\"Number of unique values in each column:\\n\\n\", data.nunique())"
      ],
      "execution_count": null,
      "outputs": [
        {
          "output_type": "stream",
          "text": [
            "Number of unique values in each column:\n",
            "\n",
            " accountNumber                 5000\n",
            "customerId                    5000\n",
            "creditLimit                     10\n",
            "availableMoney              521916\n",
            "transactionDateTime         776637\n",
            "transactionAmount            66038\n",
            "merchantName                  2490\n",
            "acqCountry                       5\n",
            "merchantCountryCode              5\n",
            "posEntryMode                     6\n",
            "posConditionCode                 4\n",
            "merchantCategoryCode            19\n",
            "currentExpDate                 165\n",
            "accountOpenDate               1820\n",
            "dateOfLastAddressChange       2184\n",
            "cardCVV                        899\n",
            "enteredCVV                     976\n",
            "cardLast4Digits               5246\n",
            "transactionType                  4\n",
            "echoBuffer                       1\n",
            "currentBalance              487318\n",
            "merchantCity                     1\n",
            "merchantState                    1\n",
            "merchantZip                      1\n",
            "cardPresent                      2\n",
            "posOnPremises                    1\n",
            "recurringAuthInd                 1\n",
            "expirationDateKeyInMatch         2\n",
            "isFraud                          2\n",
            "dtype: int64\n"
          ],
          "name": "stdout"
        }
      ]
    },
    {
      "cell_type": "markdown",
      "metadata": {
        "id": "-8Ht42chFRIq"
      },
      "source": [
        "We check for null/empty cells in the columns by the 'all' function which returns 'True' unless there at least one element within a series or along a Dataframe axis that is 'False' or equivalent (e.g. zero or empty).\n",
        "\n",
        "Since we have Boolean containing columns in the dataset, we will have to carefully examine the results of this cell and exclude the Boolean columns from any further analysis."
      ]
    },
    {
      "cell_type": "code",
      "metadata": {
        "colab": {
          "base_uri": "https://localhost:8080/"
        },
        "id": "HRz0zQ2A6Kl4",
        "outputId": "ba776476-57fe-4ff3-d4b4-f62814cd7a3c"
      },
      "source": [
        "# To check if there are empty cells in the dataset\n",
        "print(data.all()) "
      ],
      "execution_count": null,
      "outputs": [
        {
          "output_type": "stream",
          "text": [
            "accountNumber                True\n",
            "customerId                   True\n",
            "creditLimit                  True\n",
            "availableMoney               True\n",
            "transactionDateTime          True\n",
            "transactionAmount           False\n",
            "merchantName                 True\n",
            "acqCountry                  False\n",
            "merchantCountryCode         False\n",
            "posEntryMode                False\n",
            "posConditionCode            False\n",
            "merchantCategoryCode         True\n",
            "currentExpDate               True\n",
            "accountOpenDate              True\n",
            "dateOfLastAddressChange      True\n",
            "cardCVV                      True\n",
            "enteredCVV                   True\n",
            "cardLast4Digits              True\n",
            "transactionType             False\n",
            "echoBuffer                  False\n",
            "currentBalance              False\n",
            "merchantCity                False\n",
            "merchantState               False\n",
            "merchantZip                 False\n",
            "cardPresent                 False\n",
            "posOnPremises               False\n",
            "recurringAuthInd            False\n",
            "expirationDateKeyInMatch    False\n",
            "isFraud                     False\n",
            "dtype: bool\n"
          ],
          "name": "stdout"
        }
      ]
    },
    {
      "cell_type": "code",
      "metadata": {
        "colab": {
          "base_uri": "https://localhost:8080/"
        },
        "id": "OBaxKLFNACwp",
        "outputId": "1b3fe863-9487-4d29-d8d7-7b1531793b3e"
      },
      "source": [
        "count = 0\n",
        "columns_list = {}\n",
        "for i, val in enumerate(data.all()):\n",
        "    # if the value of all() function is False\n",
        "    # This means the cells can have values 'False'\n",
        "    # zero and empty\n",
        "    if not(val):\n",
        "        # Considering only Non-Boolean columns\n",
        "        if not isinstance(data[columns[i]][0], (np.bool_)):\n",
        "            # Considering columns which do not have empty cells\n",
        "            # i.e. excluding columns which had zero values by np.where\n",
        "            # which returns the instances where the values in the columns\n",
        "            # was empty (our condition). Hence, excluding those columns with\n",
        "            # zero values and considering the ones with empty cells \n",
        "            if len(np.where(data[columns[i]] == '')[0]) != 0:\n",
        "                columns_list[columns[i]] = len(np.where(data[columns[i]] == '')[0])\n",
        "print(\"Columns with empty values: \\n\")\n",
        "for key in columns_list:\n",
        "    print(key, ' : ', columns_list[key])\n"
      ],
      "execution_count": null,
      "outputs": [
        {
          "output_type": "stream",
          "text": [
            "Columns with empty values: \n",
            "\n",
            "acqCountry  :  4562\n",
            "merchantCountryCode  :  724\n",
            "posEntryMode  :  4054\n",
            "posConditionCode  :  409\n",
            "transactionType  :  698\n",
            "echoBuffer  :  786363\n",
            "merchantCity  :  786363\n",
            "merchantState  :  786363\n",
            "merchantZip  :  786363\n",
            "posOnPremises  :  786363\n",
            "recurringAuthInd  :  786363\n"
          ],
          "name": "stdout"
        }
      ]
    },
    {
      "cell_type": "code",
      "metadata": {
        "colab": {
          "base_uri": "https://localhost:8080/"
        },
        "id": "vbMIHdr1ICKq",
        "outputId": "5922f740-1b77-4594-a2d9-ba06d611e05d"
      },
      "source": [
        "print(\"Statistical values of dataset:\\n\", data.describe())"
      ],
      "execution_count": null,
      "outputs": [
        {
          "output_type": "stream",
          "text": [
            "Statistical values of dataset:\n",
            "          creditLimit  availableMoney  transactionAmount  currentBalance\n",
            "count  786363.000000   786363.000000      786363.000000   786363.000000\n",
            "mean    10759.464459     6250.725369         136.985791     4508.739089\n",
            "std     11636.174890     8880.783989         147.725569     6457.442068\n",
            "min       250.000000    -1005.630000           0.000000        0.000000\n",
            "25%      5000.000000     1077.420000          33.650000      689.910000\n",
            "50%      7500.000000     3184.860000          87.900000     2451.760000\n",
            "75%     15000.000000     7500.000000         191.480000     5291.095000\n",
            "max     50000.000000    50000.000000        2011.540000    47498.810000\n"
          ],
          "name": "stdout"
        }
      ]
    },
    {
      "cell_type": "markdown",
      "metadata": {
        "id": "9X4VgEacHFbo"
      },
      "source": [
        "## Trying to get the non-string type of columns (these will act as features for machine learning models)"
      ]
    },
    {
      "cell_type": "code",
      "metadata": {
        "id": "8su0TpNMPUmr"
      },
      "source": [
        "float_cols = []\n",
        "for col in data.columns:\n",
        "    if isinstance (data[col][0], float):\n",
        "        float_cols.append(col)\n",
        "\n",
        "bool_cols = []\n",
        "for col in data.columns:\n",
        "    if isinstance (data[col][0], (np.bool_)):\n",
        "        bool_cols.append(col)\n",
        "\n",
        "\n",
        "non_obj_cols = float_cols + bool_cols"
      ],
      "execution_count": null,
      "outputs": []
    },
    {
      "cell_type": "markdown",
      "metadata": {
        "id": "2X3j4vqjQp3k"
      },
      "source": [
        "# Plot"
      ]
    },
    {
      "cell_type": "markdown",
      "metadata": {
        "id": "wqWrDpfYQuc-"
      },
      "source": [
        "## Histogram of transactions "
      ]
    },
    {
      "cell_type": "code",
      "metadata": {
        "colab": {
          "base_uri": "https://localhost:8080/"
        },
        "id": "Dve7d8QnQ13h",
        "outputId": "23b11e4d-3be6-471f-c49a-f9f971bd5bc5"
      },
      "source": [
        "plt.hist(data['transactionAmount'], bins=75)\n",
        "plt.title('Histogram of Processed amounts of each transactions')\n",
        "plt.xlabel('Amount')\n",
        "plt.ylabel('Number of Transactions')\n",
        "plt.show()"
      ],
      "execution_count": null,
      "outputs": [
        {
          "output_type": "display_data",
          "data": {
            "image/png": "[encoded data removed]",
            "text/plain": [
              "<Figure size 432x288 with 1 Axes>"
            ]
          },
          "metadata": {
            "tags": [],
            "needs_background": "light"
          }
        }
      ]
    },
    {
      "cell_type": "markdown",
      "metadata": {
        "id": "OfXNwxYSVLkK"
      },
      "source": [
        "We find from the histogram that the data is heavily skewed in favour of transactions with very less amounts. Infact, majority of the transaction amounts is less than 10. Because of such high values, we will further plot the histograms with different minimum transaction values."
      ]
    },
    {
      "cell_type": "code",
      "metadata": {
        "colab": {
          "base_uri": "https://localhost:8080/"
        },
        "id": "1hw__ploTneX",
        "outputId": "1ddc7012-7731-431b-f1f6-051399e842ba"
      },
      "source": [
        "fig, axs = plt.subplots(2, 2, figsize=(15,15))#, subplot_kw=dict(polar=True))\n",
        "axs[0, 0].hist(data['transactionAmount'][data['transactionAmount']>100.0], bins=25)\n",
        "axs[0, 0].set_title('Histogram of Processed amounts of each transactions > 100')\n",
        "axs[0, 1].hist(data['transactionAmount'][data['transactionAmount']>500.0], bins=25)\n",
        "axs[0, 1].set_title('Histogram of Processed amounts of each transactions > 500')\n",
        "axs[1, 0].hist(data['transactionAmount'][data['transactionAmount']>1000.0], bins=25)\n",
        "axs[1, 0].set_title('Histogram of Processed amounts of each transactions > 1000')\n",
        "axs[1, 1].hist(data['transactionAmount'][data['transactionAmount']>1500.0], bins=25)\n",
        "axs[1, 1].set_title('Histogram of Processed amounts of each transactions > 1500')"
      ],
      "execution_count": null,
      "outputs": [
        {
          "output_type": "execute_result",
          "data": {
            "text/plain": [
              "Text(0.5, 1.0, 'Histogram of Processed amounts of each transactions > 1500')"
            ]
          },
          "metadata": {
            "tags": []
          },
          "execution_count": 19
        },
        {
          "output_type": "display_data",
          "data": {
            "image/png": "[encoded data removed]",
            "text/plain": [
              "<Figure size 1080x1080 with 4 Axes>"
            ]
          },
          "metadata": {
            "tags": [],
            "needs_background": "light"
          }
        }
      ]
    },
    {
      "cell_type": "markdown",
      "metadata": {
        "id": "UgOvw85WV8_p"
      },
      "source": [
        "We see the similar pattern here. The transactions are more with lesser transaction amounts. This pattern is not valid when the transaction amount is over 1500 (from the 4th graph). The things we get to know from the histograms is that the transactions are Right skewed, i.e. the tail has positive skew towards right and peak of the histogram veers towards left.\n",
        "\n",
        "This means that the Mode, is right most, followed by median and then mean (in most cases). Hence, in order to describe this kind of data statistically, it would be wise to present 2 of these metrics and preferable all 3 to get a sense of frequency and center of the data distributon. "
      ]
    },
    {
      "cell_type": "code",
      "metadata": {
        "id": "HnhQiQ5OiOG6"
      },
      "source": [
        "def find_class_dist(data):\n",
        "    isfraud_char = data['isFraud'].value_counts()\n",
        "    print(isfraud_char)\n",
        "    print(\"False: {}%\".format(np.round(100*isfraud_char[0]/(np.sum(isfraud_char)),2)))\n",
        "    print(\"True: {}%\".format(np.round(100*isfraud_char[1]/(np.sum(isfraud_char)),2)))"
      ],
      "execution_count": null,
      "outputs": []
    },
    {
      "cell_type": "markdown",
      "metadata": {
        "id": "5zUNLFrV8LcQ"
      },
      "source": [
        "#Data Wrangling : Duplicate transactions"
      ]
    },
    {
      "cell_type": "markdown",
      "metadata": {
        "id": "BUNzVKFx8RqF"
      },
      "source": [
        "## Reversal Transactions"
      ]
    },
    {
      "cell_type": "markdown",
      "metadata": {
        "id": "cB573ygUYFyZ"
      },
      "source": [
        "From the preliminary EDA, we could see that \"transactionType\" column contains information about \"REVERSAL\" transactions and hence, we make a new dataset that contains transactions of \"REVERSAL\" nature.\n",
        "\n",
        "\n",
        "Another way that this could be done is to keep track of 'availableMoney' in the original dataset, and flag a transaction as \"REVERSAL\" if the amount is added rather than subtracted for a particular transaction for an user. But this will be computationally expensive, given that we already have this flag in the dataset. Hence, we will use the flag."
      ]
    },
    {
      "cell_type": "code",
      "metadata": {
        "colab": {
          "base_uri": "https://localhost:8080/",
          "height": 241
        },
        "id": "v1wO7pWN5fjY",
        "outputId": "32eab27f-b22c-4384-d8a5-5f044fe292a6"
      },
      "source": [
        "condition = (data['transactionType'] == 'REVERSAL') \n",
        "df_rev = data[condition]\n",
        "df_rev.head()"
      ],
      "execution_count": null,
      "outputs": [
        {
          "output_type": "execute_result",
          "data": {
            "text/html": [
              "<div>\n",
              "<style scoped>\n",
              "    .dataframe tbody tr th:only-of-type {\n",
              "        vertical-align: middle;\n",
              "    }\n",
              "\n",
              "    .dataframe tbody tr th {\n",
              "        vertical-align: top;\n",
              "    }\n",
              "\n",
              "    .dataframe thead th {\n",
              "        text-align: right;\n",
              "    }\n",
              "</style>\n",
              "<table border=\"1\" class=\"dataframe\">\n",
              "  <thead>\n",
              "    <tr style=\"text-align: right;\">\n",
              "      <th></th>\n",
              "      <th>accountNumber</th>\n",
              "      <th>customerId</th>\n",
              "      <th>creditLimit</th>\n",
              "      <th>availableMoney</th>\n",
              "      <th>transactionDateTime</th>\n",
              "      <th>transactionAmount</th>\n",
              "      <th>merchantName</th>\n",
              "      <th>acqCountry</th>\n",
              "      <th>merchantCountryCode</th>\n",
              "      <th>posEntryMode</th>\n",
              "      <th>posConditionCode</th>\n",
              "      <th>merchantCategoryCode</th>\n",
              "      <th>currentExpDate</th>\n",
              "      <th>accountOpenDate</th>\n",
              "      <th>dateOfLastAddressChange</th>\n",
              "      <th>cardCVV</th>\n",
              "      <th>enteredCVV</th>\n",
              "      <th>cardLast4Digits</th>\n",
              "      <th>transactionType</th>\n",
              "      <th>echoBuffer</th>\n",
              "      <th>currentBalance</th>\n",
              "      <th>merchantCity</th>\n",
              "      <th>merchantState</th>\n",
              "      <th>merchantZip</th>\n",
              "      <th>cardPresent</th>\n",
              "      <th>posOnPremises</th>\n",
              "      <th>recurringAuthInd</th>\n",
              "      <th>expirationDateKeyInMatch</th>\n",
              "      <th>isFraud</th>\n",
              "    </tr>\n",
              "  </thead>\n",
              "  <tbody>\n",
              "    <tr>\n",
              "      <th>39</th>\n",
              "      <td>574788567</td>\n",
              "      <td>574788567</td>\n",
              "      <td>2500.0</td>\n",
              "      <td>2200.98</td>\n",
              "      <td>2016-05-24T01:38:03</td>\n",
              "      <td>215.13</td>\n",
              "      <td>Convenient Tire</td>\n",
              "      <td>US</td>\n",
              "      <td>US</td>\n",
              "      <td>09</td>\n",
              "      <td>01</td>\n",
              "      <td>auto</td>\n",
              "      <td>10/2021</td>\n",
              "      <td>2015-10-13</td>\n",
              "      <td>2015-10-13</td>\n",
              "      <td>206</td>\n",
              "      <td>206</td>\n",
              "      <td>8522</td>\n",
              "      <td>REVERSAL</td>\n",
              "      <td></td>\n",
              "      <td>299.02</td>\n",
              "      <td></td>\n",
              "      <td></td>\n",
              "      <td></td>\n",
              "      <td>True</td>\n",
              "      <td></td>\n",
              "      <td></td>\n",
              "      <td>False</td>\n",
              "      <td>False</td>\n",
              "    </tr>\n",
              "    <tr>\n",
              "      <th>73</th>\n",
              "      <td>574788567</td>\n",
              "      <td>574788567</td>\n",
              "      <td>2500.0</td>\n",
              "      <td>2432.72</td>\n",
              "      <td>2016-10-07T10:23:57</td>\n",
              "      <td>3.87</td>\n",
              "      <td>Eazy Repair</td>\n",
              "      <td>US</td>\n",
              "      <td>US</td>\n",
              "      <td>05</td>\n",
              "      <td>01</td>\n",
              "      <td>auto</td>\n",
              "      <td>10/2022</td>\n",
              "      <td>2015-10-13</td>\n",
              "      <td>2015-10-13</td>\n",
              "      <td>579</td>\n",
              "      <td>579</td>\n",
              "      <td>4219</td>\n",
              "      <td>REVERSAL</td>\n",
              "      <td></td>\n",
              "      <td>67.28</td>\n",
              "      <td></td>\n",
              "      <td></td>\n",
              "      <td></td>\n",
              "      <td>True</td>\n",
              "      <td></td>\n",
              "      <td></td>\n",
              "      <td>False</td>\n",
              "      <td>False</td>\n",
              "    </tr>\n",
              "    <tr>\n",
              "      <th>101</th>\n",
              "      <td>924729945</td>\n",
              "      <td>924729945</td>\n",
              "      <td>50000.0</td>\n",
              "      <td>49831.43</td>\n",
              "      <td>2016-10-19T14:01:45</td>\n",
              "      <td>168.57</td>\n",
              "      <td>discount.com</td>\n",
              "      <td>US</td>\n",
              "      <td>US</td>\n",
              "      <td>05</td>\n",
              "      <td>01</td>\n",
              "      <td>online_retail</td>\n",
              "      <td>11/2024</td>\n",
              "      <td>2014-07-25</td>\n",
              "      <td>2014-07-25</td>\n",
              "      <td>205</td>\n",
              "      <td>265</td>\n",
              "      <td>9459</td>\n",
              "      <td>REVERSAL</td>\n",
              "      <td></td>\n",
              "      <td>168.57</td>\n",
              "      <td></td>\n",
              "      <td></td>\n",
              "      <td></td>\n",
              "      <td>False</td>\n",
              "      <td></td>\n",
              "      <td></td>\n",
              "      <td>False</td>\n",
              "      <td>False</td>\n",
              "    </tr>\n",
              "    <tr>\n",
              "      <th>133</th>\n",
              "      <td>984504651</td>\n",
              "      <td>984504651</td>\n",
              "      <td>50000.0</td>\n",
              "      <td>46367.41</td>\n",
              "      <td>2016-01-16T09:53:15</td>\n",
              "      <td>450.74</td>\n",
              "      <td>Planet Fitness #849960</td>\n",
              "      <td>US</td>\n",
              "      <td>US</td>\n",
              "      <td>05</td>\n",
              "      <td>01</td>\n",
              "      <td>health</td>\n",
              "      <td>08/2028</td>\n",
              "      <td>2015-07-27</td>\n",
              "      <td>2015-07-27</td>\n",
              "      <td>640</td>\n",
              "      <td>640</td>\n",
              "      <td>8332</td>\n",
              "      <td>REVERSAL</td>\n",
              "      <td></td>\n",
              "      <td>3632.59</td>\n",
              "      <td></td>\n",
              "      <td></td>\n",
              "      <td></td>\n",
              "      <td>False</td>\n",
              "      <td></td>\n",
              "      <td></td>\n",
              "      <td>False</td>\n",
              "      <td>False</td>\n",
              "    </tr>\n",
              "    <tr>\n",
              "      <th>156</th>\n",
              "      <td>984504651</td>\n",
              "      <td>984504651</td>\n",
              "      <td>50000.0</td>\n",
              "      <td>41909.30</td>\n",
              "      <td>2016-01-25T20:39:15</td>\n",
              "      <td>81.73</td>\n",
              "      <td>AMC #724446</td>\n",
              "      <td>US</td>\n",
              "      <td>US</td>\n",
              "      <td>09</td>\n",
              "      <td>01</td>\n",
              "      <td>entertainment</td>\n",
              "      <td>12/2031</td>\n",
              "      <td>2015-07-27</td>\n",
              "      <td>2015-07-27</td>\n",
              "      <td>640</td>\n",
              "      <td>640</td>\n",
              "      <td>8332</td>\n",
              "      <td>REVERSAL</td>\n",
              "      <td></td>\n",
              "      <td>8090.70</td>\n",
              "      <td></td>\n",
              "      <td></td>\n",
              "      <td></td>\n",
              "      <td>True</td>\n",
              "      <td></td>\n",
              "      <td></td>\n",
              "      <td>False</td>\n",
              "      <td>False</td>\n",
              "    </tr>\n",
              "  </tbody>\n",
              "</table>\n",
              "</div>"
            ],
            "text/plain": [
              "    accountNumber customerId  ...  expirationDateKeyInMatch  isFraud\n",
              "39      574788567  574788567  ...                     False    False\n",
              "73      574788567  574788567  ...                     False    False\n",
              "101     924729945  924729945  ...                     False    False\n",
              "133     984504651  984504651  ...                     False    False\n",
              "156     984504651  984504651  ...                     False    False\n",
              "\n",
              "[5 rows x 29 columns]"
            ]
          },
          "metadata": {
            "tags": []
          },
          "execution_count": 21
        }
      ]
    },
    {
      "cell_type": "code",
      "metadata": {
        "colab": {
          "base_uri": "https://localhost:8080/"
        },
        "id": "Pw_tDpyl9xhu",
        "outputId": "53975c3c-0a2c-47c2-c1e0-b2b52b0ccd99"
      },
      "source": [
        "print(\"Total number of transactions : \", len(df_rev))\n",
        "print(\"Total dollar amount from reversed transactions : \", np.sum(df_rev['transactionAmount']))"
      ],
      "execution_count": null,
      "outputs": [
        {
          "output_type": "stream",
          "text": [
            "Total number of transactions :  20303\n",
            "Total dollar amount from reversed transactions :  2821792.5\n"
          ],
          "name": "stdout"
        }
      ]
    },
    {
      "cell_type": "code",
      "metadata": {
        "colab": {
          "base_uri": "https://localhost:8080/"
        },
        "id": "TT6FPRA6h6VD",
        "outputId": "6fca456e-bc21-4427-f961-67961da06c24"
      },
      "source": [
        "find_class_dist(df_rev)"
      ],
      "execution_count": null,
      "outputs": [
        {
          "output_type": "stream",
          "text": [
            "False    19966\n",
            "True       337\n",
            "Name: isFraud, dtype: int64\n",
            "False: 98.34%\n",
            "True: 1.66%\n"
          ],
          "name": "stdout"
        }
      ]
    },
    {
      "cell_type": "code",
      "metadata": {
        "colab": {
          "base_uri": "https://localhost:8080/",
          "height": 265
        },
        "id": "7zsd56LHZz7V",
        "outputId": "6185f82a-64dd-434a-e9d5-7155506aaf98"
      },
      "source": [
        "plt.hist(df_rev['transactionAmount'], bins=75)\n",
        "plt.show()"
      ],
      "execution_count": null,
      "outputs": [
        {
          "output_type": "display_data",
          "data": {
            "image/png": "[encoded data removed]",
            "text/plain": [
              "<Figure size 432x288 with 1 Axes>"
            ]
          },
          "metadata": {
            "tags": [],
            "needs_background": "light"
          }
        }
      ]
    },
    {
      "cell_type": "markdown",
      "metadata": {
        "id": "53PLd8aJZka7"
      },
      "source": [
        "## Multi-swipe transactions"
      ]
    },
    {
      "cell_type": "markdown",
      "metadata": {
        "id": "yLrP0H_x9Wkn"
      },
      "source": [
        "In order to solve this problem, firstly difference between the time of transactions is taken. This is because from the lineplot, the account numbers are arranged in the increasing order and hence the dataframe is arranged by the account numbers. \n",
        "\n",
        "After differencing, we find the transactions which fall within the specified threshold (if transactions happen within the threshold, then we consider them as multi swipe transactions) and then consider the edge case, wherein, the account numbers could be different but the transaction falls in the threshold zone. And once we have all the indices of the samples that we think are part of multi-swipe transactions, we copy them into another dataset."
      ]
    },
    {
      "cell_type": "code",
      "metadata": {
        "id": "Ahg9cLoxZAMW"
      },
      "source": [
        "# Convert the transactionDateTime column to datetime datatype\n",
        "data.transactionDateTime = pd.to_datetime(data.transactionDateTime)"
      ],
      "execution_count": null,
      "outputs": []
    },
    {
      "cell_type": "code",
      "metadata": {
        "colab": {
          "base_uri": "https://localhost:8080/",
          "height": 282
        },
        "id": "3ng-CYHgikZb",
        "outputId": "160e5bf6-a07b-4965-a66d-e1aee2efb634"
      },
      "source": [
        "# Plot the account numbers with respect to indices\n",
        "plt.plot(data.index, data.accountNumber)\n",
        "# The plot shows that the data is organised in increasing\n",
        "# order of account numbers, but we will still have to consider\n",
        "# the edge case, where time difference of 2 account numbers can\n",
        "# be less than the threshold but their account numbers might be\n",
        "# different."
      ],
      "execution_count": null,
      "outputs": [
        {
          "output_type": "execute_result",
          "data": {
            "text/plain": [
              "[<matplotlib.lines.Line2D at 0x7fb1d1c157f0>]"
            ]
          },
          "metadata": {
            "tags": []
          },
          "execution_count": 26
        },
        {
          "output_type": "display_data",
          "data": {
            "image/png": "[encoded data removed]",
            "text/plain": [
              "<Figure size 432x288 with 1 Axes>"
            ]
          },
          "metadata": {
            "tags": [],
            "needs_background": "light"
          }
        }
      ]
    },
    {
      "cell_type": "code",
      "metadata": {
        "colab": {
          "base_uri": "https://localhost:8080/"
        },
        "id": "ySBGvFiGqJlb",
        "outputId": "2f9aa420-3a64-4aaf-e4b7-2b3161b2d88d"
      },
      "source": [
        "# Declare an empty dataset\n",
        "df_ms = pd.DataFrame()\n",
        "# Take difference of transaction date & time column\n",
        "df_t = data.transactionDateTime.diff()\n",
        "# Convert time to seconds\n",
        "df_t = df_t.dt.total_seconds()/(60.0)\n",
        "\n",
        "# Threshold time (in mins) to check for multiple swiping\n",
        "threshold = 2.0\n",
        "# Selecting those values which are within the threshold\n",
        "df_t = (df_t[(df_t<threshold) & (df_t>0.0) == True])\n",
        "\n",
        "# Edge case detection : if the account numbers of the current\n",
        "# transaction and the previous transaction are not the same\n",
        "# but the time difference value still satisfies the threshold \n",
        "# condition then need to delete the entry.\n",
        "for i in df_t.index:\n",
        "    if data.accountNumber[i] != data.accountNumber[i-1]:\n",
        "        df_t = df_t.drop(index=i)\n",
        "        \n",
        "# copy from the main database, the values of transactions that\n",
        "# are suspected to be a case of multi-swipe problem\n",
        "df_ms = data.iloc[df_t.index]\n",
        "\n",
        "print(df_ms)"
      ],
      "execution_count": null,
      "outputs": [
        {
          "output_type": "stream",
          "text": [
            "       accountNumber customerId  ...  expirationDateKeyInMatch  isFraud\n",
            "133        984504651  984504651  ...                     False    False\n",
            "263        984504651  984504651  ...                     False    False\n",
            "281        984504651  984504651  ...                     False    False\n",
            "339        984504651  984504651  ...                     False    False\n",
            "358        984504651  984504651  ...                     False    False\n",
            "...              ...        ...  ...                       ...      ...\n",
            "785983     205026043  205026043  ...                     False    False\n",
            "785984     205026043  205026043  ...                     False    False\n",
            "786014     205026043  205026043  ...                     False    False\n",
            "786024     205026043  205026043  ...                     False    False\n",
            "786233     638498773  638498773  ...                     False    False\n",
            "\n",
            "[17227 rows x 29 columns]\n"
          ],
          "name": "stdout"
        }
      ]
    },
    {
      "cell_type": "code",
      "metadata": {
        "colab": {
          "base_uri": "https://localhost:8080/"
        },
        "id": "KTNrZntc8OQU",
        "outputId": "4ebbc607-8f34-4776-d4ea-e7475459c752"
      },
      "source": [
        "print(\"Total number of transactions : \", len(df_ms))\n",
        "print(\"Total dollar amount from reversed transactions : \", np.sum(df_ms['transactionAmount']))"
      ],
      "execution_count": null,
      "outputs": [
        {
          "output_type": "stream",
          "text": [
            "Total number of transactions :  17227\n",
            "Total dollar amount from reversed transactions :  2480445.14\n"
          ],
          "name": "stdout"
        }
      ]
    },
    {
      "cell_type": "code",
      "metadata": {
        "colab": {
          "base_uri": "https://localhost:8080/",
          "height": 265
        },
        "id": "zjLv5S_I8XQ0",
        "outputId": "24e17065-8a91-4541-f234-8c8f778690ac"
      },
      "source": [
        "plt.hist(df_ms['transactionAmount'], bins=75)\n",
        "plt.show()"
      ],
      "execution_count": null,
      "outputs": [
        {
          "output_type": "display_data",
          "data": {
            "image/png": "[encoded data removed]",
            "text/plain": [
              "<Figure size 432x288 with 1 Axes>"
            ]
          },
          "metadata": {
            "tags": [],
            "needs_background": "light"
          }
        }
      ]
    },
    {
      "cell_type": "code",
      "metadata": {
        "colab": {
          "base_uri": "https://localhost:8080/"
        },
        "id": "Tzyd1ZvCibbs",
        "outputId": "43b7e413-a4b9-4dd5-ff76-b7c2f10548f3"
      },
      "source": [
        "find_class_dist(df_ms)"
      ],
      "execution_count": null,
      "outputs": [
        {
          "output_type": "stream",
          "text": [
            "False    16912\n",
            "True       315\n",
            "Name: isFraud, dtype: int64\n",
            "False: 98.17%\n",
            "True: 1.83%\n"
          ],
          "name": "stdout"
        }
      ]
    },
    {
      "cell_type": "markdown",
      "metadata": {
        "id": "LDoSWvjr81fC"
      },
      "source": [
        "Both the kinds of transaction are almost similar in number ~ 20,000 but the value of transactions is higher in Reversal category than in Multi-Swipe category.\n",
        "\n",
        "For both the kinds of transaction, the number of fraud transactions remain below 2%\n",
        "\n",
        "\n",
        "They both follow the same right handed skewness as the original model."
      ]
    },
    {
      "cell_type": "markdown",
      "metadata": {
        "id": "zm5n19Rw5qfk"
      },
      "source": [
        "#Modeling IsFraud Characteristics"
      ]
    },
    {
      "cell_type": "markdown",
      "metadata": {
        "id": "D-Z_OWBi_C1a"
      },
      "source": [
        "## Checking class distribution of IsFraud"
      ]
    },
    {
      "cell_type": "code",
      "metadata": {
        "colab": {
          "base_uri": "https://localhost:8080/"
        },
        "id": "-Rvnli32wK6r",
        "outputId": "51612f4b-8031-42dd-f181-d71276426a1c"
      },
      "source": [
        "isfraud_char = data['isFraud'].value_counts()\n",
        "print(isfraud_char)\n",
        "print(\"False: {}%\".format(np.round(100*isfraud_char[0]/(np.sum(isfraud_char)),2)))\n",
        "print(\"True: {}%\".format(np.round(100*isfraud_char[1]/(np.sum(isfraud_char)),2)))\n"
      ],
      "execution_count": null,
      "outputs": [
        {
          "output_type": "stream",
          "text": [
            "False    773946\n",
            "True      12417\n",
            "Name: isFraud, dtype: int64\n",
            "False: 98.42%\n",
            "True: 1.58%\n"
          ],
          "name": "stdout"
        }
      ]
    },
    {
      "cell_type": "markdown",
      "metadata": {
        "id": "P3sv5wCHACRG"
      },
      "source": [
        "The above numbers show that the data faces class imbalance problem. The \"True\" samples have 1.58% representation while the \"False\" have 98.42% presence in the dataset. This is shown in the bar chart below.\n",
        "\n",
        "Hence, a simple classification statement, saying isFraud_test = 'False' will have a high accuracy of 98.42% because of this imbalance. This is not the case, because we will never be able to classify the 'True' case due to this imbalance.\n",
        "\n",
        "Thus, we might have to incorporate different strategies to overcome this problem."
      ]
    },
    {
      "cell_type": "code",
      "metadata": {
        "id": "yrBgnUkz7PHk",
        "colab": {
          "base_uri": "https://localhost:8080/",
          "height": 295
        },
        "outputId": "5dbe6bc9-f0fc-4f90-c62d-fc3eb65f24e5"
      },
      "source": [
        "isfraud_char.plot(kind = 'bar', rot=0)\n",
        "plt.title(\"Transaction Class Distribution\")\n",
        "plt.xlabel(\"Class\")\n",
        "plt.ylabel(\"Frequency\")\n",
        "plt.show()"
      ],
      "execution_count": null,
      "outputs": [
        {
          "output_type": "display_data",
          "data": {
            "image/png": "[encoded data removed]",
            "text/plain": [
              "<Figure size 432x288 with 1 Axes>"
            ]
          },
          "metadata": {
            "tags": [],
            "needs_background": "light"
          }
        }
      ]
    },
    {
      "cell_type": "markdown",
      "metadata": {
        "id": "N2F7CqMUFP2P"
      },
      "source": [
        "## Splitting data into Fraud and Normal"
      ]
    },
    {
      "cell_type": "code",
      "metadata": {
        "id": "9HoJF7luBMz2"
      },
      "source": [
        "normal = data[data['isFraud']==False]\n",
        "fraud = data[data['isFraud']==True]"
      ],
      "execution_count": null,
      "outputs": []
    },
    {
      "cell_type": "code",
      "metadata": {
        "colab": {
          "base_uri": "https://localhost:8080/"
        },
        "id": "RbjEPkdKFbSP",
        "outputId": "3c6787df-1e23-40f6-9bda-87f408f5cb03"
      },
      "source": [
        "print(\"Shape of Normal transactions: \", normal.shape)\n",
        "print(\"Shape of Fraud transactions: \", fraud.shape)"
      ],
      "execution_count": null,
      "outputs": [
        {
          "output_type": "stream",
          "text": [
            "Shape of Normal transactions:  (773946, 29)\n",
            "Shape of Fraud transactions:  (12417, 29)\n"
          ],
          "name": "stdout"
        }
      ]
    },
    {
      "cell_type": "code",
      "metadata": {
        "colab": {
          "base_uri": "https://localhost:8080/"
        },
        "id": "ZciJ8nQCFsrY",
        "outputId": "356a2050-baa1-44ed-e824-234220f1d2bc"
      },
      "source": [
        "columns_amt = ['Normal Transactions Amount', 'Fradulant Transactions Amount']\n",
        "amt = pd.concat([normal.transactionAmount.describe(), fraud.transactionAmount.describe()], axis=1)\n",
        "amt.columns = columns_amt\n",
        "print(amt)"
      ],
      "execution_count": null,
      "outputs": [
        {
          "output_type": "stream",
          "text": [
            "       Normal Transactions Amount  Fradulant Transactions Amount\n",
            "count               773946.000000                   12417.000000\n",
            "mean                   135.570249                     225.215905\n",
            "std                    146.525305                     189.551393\n",
            "min                      0.000000                       0.000000\n",
            "25%                     33.190000                      86.000000\n",
            "50%                     86.760000                     176.980000\n",
            "75%                    189.390000                     311.460000\n",
            "max                   2011.540000                    1608.350000\n"
          ],
          "name": "stdout"
        }
      ]
    },
    {
      "cell_type": "markdown",
      "metadata": {
        "id": "Z-pCCpdlLG6u"
      },
      "source": [
        "## Visualisation of Normal and Fraudulant transactions"
      ]
    },
    {
      "cell_type": "code",
      "metadata": {
        "colab": {
          "base_uri": "https://localhost:8080/",
          "height": 449
        },
        "id": "Z1XkLBuZFyEQ",
        "outputId": "22d2caeb-2867-4629-bf5c-1b2f7708468a"
      },
      "source": [
        "plt.figure(figsize=(15, 15))\n",
        "\n",
        "plt.subplot(2, 2, 1)\n",
        "fraud.transactionDateTime.hist(bins=75,label=\"Fraudulant Transaction\")\n",
        "plt.title('Histogram of time period of Fraudulant transactions')\n",
        "plt.xlabel('Time')\n",
        "plt.ylabel('Number of Transactions')\n",
        "\n",
        "plt.subplot(2, 2, 2)\n",
        "normal.transactionDateTime.hist(bins=75, label=\"Non Fraudulant Transaction\")\n",
        "plt.title('Histogram of time period of Normal transactions')\n",
        "plt.xlabel('Time')\n",
        "plt.ylabel('Number of Transactions')\n",
        "\n",
        "plt.show()"
      ],
      "execution_count": null,
      "outputs": [
        {
          "output_type": "display_data",
          "data": {
            "image/png": "[encoded data removed]",
            "text/plain": [
              "<Figure size 1080x1080 with 2 Axes>"
            ]
          },
          "metadata": {
            "tags": [],
            "needs_background": "light"
          }
        }
      ]
    },
    {
      "cell_type": "markdown",
      "metadata": {
        "id": "dRBcNDlaIA39"
      },
      "source": [
        "The fraudulant transactions here are occuring throughout the timeline and there is no set pattern. However, we see increasing trend of transactions which are normal over time"
      ]
    },
    {
      "cell_type": "code",
      "metadata": {
        "colab": {
          "base_uri": "https://localhost:8080/",
          "height": 449
        },
        "id": "egBXdgEgMKdt",
        "outputId": "d29a00bc-efd9-4b65-a64f-fb5cb1c2dcfa"
      },
      "source": [
        "plt.figure(figsize=(15, 15))\n",
        "\n",
        "plt.subplot(2, 2, 1)\n",
        "fraud.transactionAmount.hist(bins=75,label=\"Fraudulant Transaction\")\n",
        "plt.title('Histogram of Amount of Fraudulant transactions')\n",
        "plt.xlabel('Amount')\n",
        "plt.ylabel('Number of Transactions')\n",
        "\n",
        "plt.subplot(2, 2, 2)\n",
        "normal.transactionAmount.hist(bins=75, label=\"Non Fraudulant Transaction\")\n",
        "plt.title('Histogram of Amount of Normal transactions')\n",
        "plt.xlabel('Amount')\n",
        "plt.ylabel('Number of Transactions')\n",
        "\n",
        "plt.show()"
      ],
      "execution_count": null,
      "outputs": [
        {
          "output_type": "display_data",
          "data": {
            "image/png": "[encoded data removed]",
            "text/plain": [
              "<Figure size 1080x1080 with 2 Axes>"
            ]
          },
          "metadata": {
            "tags": [],
            "needs_background": "light"
          }
        }
      ]
    },
    {
      "cell_type": "code",
      "metadata": {
        "colab": {
          "base_uri": "https://localhost:8080/"
        },
        "id": "iuwvn0ieIkvb",
        "outputId": "e9e0cb1a-c19c-496a-928f-948dcdbf75db"
      },
      "source": [
        "print(\"Standard deviation of fraudulant transactions: \", fraud['transactionAmount'].std())\n",
        "print(\"Standard deviation of normal transactions: \", normal['transactionAmount'].std())"
      ],
      "execution_count": null,
      "outputs": [
        {
          "output_type": "stream",
          "text": [
            "Standard deviation of fraudulant transactions:  189.5513932254675\n",
            "Standard deviation of normal transactions:  146.5253051567536\n"
          ],
          "name": "stdout"
        }
      ]
    },
    {
      "cell_type": "markdown",
      "metadata": {
        "id": "MWzdLlN5ILIF"
      },
      "source": [
        "The histogram of the amount of transactions for normal and fradulant are right skewed, however, the tail of fraudulant transactions get flatter over a period of time (indicating a larger standard deviation) whereas for normal transactions, the spread is limited, and hence lesser standard deviation, which is also apparent from the values calculated above."
      ]
    },
    {
      "cell_type": "code",
      "metadata": {
        "colab": {
          "base_uri": "https://localhost:8080/",
          "height": 449
        },
        "id": "JpvA6btLKY2A",
        "outputId": "22e8ad2f-b6b0-4de3-c383-bfef284804bc"
      },
      "source": [
        "plt.figure(figsize=(15, 15))\n",
        "\n",
        "plt.subplot(2, 2, 1)\n",
        "plt.scatter(fraud.transactionDateTime, fraud.transactionAmount)\n",
        "plt.title('Scatter plot of time period vs amount of fraudulant transactions')\n",
        "plt.xlabel('Time')\n",
        "plt.ylabel('Number of Transactions')\n",
        "\n",
        "plt.subplot(2, 2, 2)\n",
        "plt.scatter(normal.transactionDateTime, normal.transactionAmount)\n",
        "plt.title('Scatter plot of time period vs amount of normal transactions')\n",
        "plt.xlabel('Time')\n",
        "plt.ylabel('Number of Transactions')\n",
        "\n",
        "\n",
        "\n",
        "plt.show()"
      ],
      "execution_count": null,
      "outputs": [
        {
          "output_type": "display_data",
          "data": {
            "image/png": "[encoded data removed]",
            "text/plain": [
              "<Figure size 1080x1080 with 2 Axes>"
            ]
          },
          "metadata": {
            "tags": [],
            "needs_background": "light"
          }
        }
      ]
    },
    {
      "cell_type": "markdown",
      "metadata": {
        "id": "34DAE8qLJQoE"
      },
      "source": [
        "In this plot too, there is not much that we can gain from them. Both kinds of transactions happen consistently over the period of time ranging for most of the values, however, the maximum values of both the data types are different (as shown in the amt dataframe)"
      ]
    },
    {
      "cell_type": "code",
      "metadata": {
        "colab": {
          "base_uri": "https://localhost:8080/",
          "height": 718
        },
        "id": "VW-wQ6O3Gehg",
        "outputId": "28cbc849-19ec-4796-e152-e8890ef52c7a"
      },
      "source": [
        "df = data\n",
        "df.transactionDateTime=pd.to_numeric(df.transactionDateTime)\n",
        "plt.figure(figsize=(10,10))\n",
        "sns.heatmap(df.corr())\n",
        "plt.show();"
      ],
      "execution_count": null,
      "outputs": [
        {
          "output_type": "display_data",
          "data": {
            "image/png": "[encoded data removed]",
            "text/plain": [
              "<Figure size 720x720 with 2 Axes>"
            ]
          },
          "metadata": {
            "tags": [],
            "needs_background": "light"
          }
        }
      ]
    },
    {
      "cell_type": "markdown",
      "metadata": {
        "id": "p3o1Oq5eJqqz"
      },
      "source": [
        "High Correlation between \n",
        "\n",
        "*   \"creditLimit\" and \"availableMoney\" \n",
        "*   \"creditLimit\" and \"currentBalance\"\n",
        "\n"
      ]
    },
    {
      "cell_type": "markdown",
      "metadata": {
        "id": "J7QdpeT5S5Cz"
      },
      "source": [
        "## Building the data for the model"
      ]
    },
    {
      "cell_type": "markdown",
      "metadata": {
        "id": "M8-Kco8PKqgA"
      },
      "source": [
        "Here, we normalise the numerical datasets. The boolean datasets are already normalised (values between 0 and 1). We convert them from \"bool\" type to \"int\" type. We discard the non-numerical columns because there is no correlation and the meaning of those datapoints are more related to the user, like card number, cvv number, account number. The numerical and boolean points contain features like credit amount, amount of transaction, balance, etc. which have better chances of predicting whether a transaction is normal or fraudulant. \n",
        "\n",
        "After normalising, we separate the data into 'X' and 'y' where 'y' is the column 'isFraud' and 'X' is the set of other numerical and boolean columns."
      ]
    },
    {
      "cell_type": "code",
      "metadata": {
        "id": "SsESOQasJI2u"
      },
      "source": [
        "df['transactionAmount'] = StandardScaler().fit_transform(df['transactionAmount'].values.reshape(-1, 1))\n",
        "for cols in float_cols:\n",
        "    df[cols] = StandardScaler().fit_transform(df[cols].values.reshape(-1, 1))\n",
        "\n",
        "df[bool_cols] = df[bool_cols]*1\n",
        "\n",
        "df_ml = df[non_obj_cols]\n",
        "X = df_ml.drop('isFraud', axis=1)\n",
        "y = df_ml.isFraud"
      ],
      "execution_count": null,
      "outputs": []
    },
    {
      "cell_type": "markdown",
      "metadata": {
        "id": "kKk147FUKJa3"
      },
      "source": [
        "Since we observe class imbalance in the data, we have 2 options. First being over-sampling, which means we will increase the data points of less dominant class and make it equivalent to the dominant class. Here we do this by Synthetic Minority Oversampling Technique (SMOTE) under the imblearn library which works by randomly picking a point from the minority class and computing the k-nearest neighbors for this point. The synthetic points are added between the chosen point and its neighbors.\n",
        "\n",
        "We see here that the samples are almost doubled and we have equal number of \"normal\" and \"fraduluant\" transactions."
      ]
    },
    {
      "cell_type": "code",
      "metadata": {
        "colab": {
          "base_uri": "https://localhost:8080/"
        },
        "id": "iPHRJvcNOE6p",
        "outputId": "a65b8602-27cd-4b74-a7ae-db169fee1c62"
      },
      "source": [
        "X_resample_os, y_resample_os = SMOTE().fit_sample(X, y)\n",
        "print ('The number of transactions before resampling : ' + str(len(X)))\n",
        "print ('The number of transactions after resampling : ' + str(len(X_resample_os)))\n",
        "print ('If the number of frauds is equal to the number of normal tansactions? ' + str(sum(y_resample_os == 0) == sum(y_resample_os == 1)))"
      ],
      "execution_count": null,
      "outputs": [
        {
          "output_type": "stream",
          "text": [
            "The number of transactions before resampling : 786363\n",
            "The number of transactions after resampling : 1547892\n",
            "If the number of frauds is equal to the number of normal tansactions? True\n"
          ],
          "name": "stdout"
        }
      ]
    },
    {
      "cell_type": "markdown",
      "metadata": {
        "id": "5SdLgsiCL-W9"
      },
      "source": [
        "Another technique, we can employ here is using undersampling, which essentially means toning down the dominant class to bring it's samples equal to the number of samples in the less dominant class. This will reduce the overall number of datapoints that we want to consider for training the model as evident in the following function below. \n",
        "\n",
        "We make use of RandomUnderSampler() function under the imblearn library which is a fast and easy way to balance the data by randomly selecting a subset of data for the targeted classes. Under-sample the majority class(es) by randomly picking samples with or without replacement.\n"
      ]
    },
    {
      "cell_type": "code",
      "metadata": {
        "colab": {
          "base_uri": "https://localhost:8080/"
        },
        "id": "HCNsmSntMpM5",
        "outputId": "13a328bc-b7e1-41a0-f149-ef3a0bfb928e"
      },
      "source": [
        "X_resample_us, y_resample_us = RandomUnderSampler().fit_resample(X, y)\n",
        "print ('The number of transactions before resampling : ' + str(len(X)))\n",
        "print ('The number of transactions after resampling : ' + str(len(X_resample_us)))\n",
        "print ('If the number of frauds is equal to the number of normal tansactions? ' + str(sum(y_resample_us == 0) == sum(y_resample_us == 1)))"
      ],
      "execution_count": null,
      "outputs": [
        {
          "output_type": "stream",
          "text": [
            "The number of transactions before resampling : 786363\n",
            "The number of transactions after resampling : 24834\n",
            "If the number of frauds is equal to the number of normal tansactions? True\n"
          ],
          "name": "stdout"
        }
      ]
    },
    {
      "cell_type": "markdown",
      "metadata": {
        "id": "8alloaMlMpzN"
      },
      "source": [
        "Now that we have our resampled datapoints, we will build models and train/test them on both, the oversampled and undersampled data points."
      ]
    },
    {
      "cell_type": "markdown",
      "metadata": {
        "id": "JcX2S1PYM0KF"
      },
      "source": [
        "### Splitting the dataset into test and train"
      ]
    },
    {
      "cell_type": "code",
      "metadata": {
        "id": "ctFHhapROaFQ"
      },
      "source": [
        "X_train_os, X_test_os, y_train_os, y_test_os = train_test_split(X_resample_os, y_resample_os, test_size=0.2)\n"
      ],
      "execution_count": null,
      "outputs": []
    },
    {
      "cell_type": "code",
      "metadata": {
        "id": "VAsZGzOVPTMJ"
      },
      "source": [
        "X_train_us, X_test_us, y_train_us, y_test_us = train_test_split(X_resample_us, y_resample_us, test_size=0.2)"
      ],
      "execution_count": null,
      "outputs": []
    },
    {
      "cell_type": "code",
      "metadata": {
        "colab": {
          "base_uri": "https://localhost:8080/"
        },
        "id": "6sEkgwPaPwlp",
        "outputId": "b860440a-9f08-44c2-d781-15db04652f56"
      },
      "source": [
        "print(\"Oversampling case: \")\n",
        "print(\"Number of training samples: \", len(X_train_os))\n",
        "print(\"Number of testing samples: \", len(X_test_os))\n",
        "print(\"*************************************************\")\n",
        "print(\"Undersampling case: \")\n",
        "print(\"Number of training samples: \", len(X_train_us))\n",
        "print(\"Number of testing samples: \", len(X_test_us))"
      ],
      "execution_count": null,
      "outputs": [
        {
          "output_type": "stream",
          "text": [
            "Oversampling case: \n",
            "Number of training samples:  1238313\n",
            "Number of testing samples:  309579\n",
            "*************************************************\n",
            "Undersampling case: \n",
            "Number of training samples:  19867\n",
            "Number of testing samples:  4967\n"
          ],
          "name": "stdout"
        }
      ]
    },
    {
      "cell_type": "markdown",
      "metadata": {
        "id": "EanIc4HHM4Pj"
      },
      "source": [
        "## Defining the number of models to be used"
      ]
    },
    {
      "cell_type": "markdown",
      "metadata": {
        "id": "sxgiix53TpA1"
      },
      "source": [
        "We are using the following algorithms for our modelling: \n",
        "\n",
        "1.   **Logistic Regression** : Logistic Regression is the most basic binary classification algorithm and hence, we must compare its performance with other algorithms.\n",
        "2.   **Decision Trees** : It is a flowchart like structure for classification problems. A decision tree follows a set of if-else conditions to visualize the data and classify it according to the conditions. Hence, we attempt to use this algorithm to see if this structure is suited for out task. \n",
        "3.   **Gaussian Naive Bayes** : Naive Bayes classifiers are a family of simple \"probabilistic classifiers\" based on applying Bayes' theorem with strong independence assumptions between the features. They are among the simplest Bayesian network models, with strongest assumption of independence between features which is unlikely in real data, yet the approach performs surprisingly well on data where this assumption does not hold. Hence, we try to make use of this approach in our problem. Also, due to the assumption of independence, it is faster to train. \n",
        "4.   **Random Forest** : The fundamental concept of random forests is \"wisdom of crowds\". Random forest, like its name implies, consists of a large number of individual decision trees that operate as an ensemble. Each individual tree in the random forest spits out a class prediction and the class with the most votes becomes our model’s prediction. Uncorrelated models (trees) can produce ensemble predictions that are more accurate than any of the individual predictions. Hence, since we make use of decision trees, we also consider this approach for classifying our problem.\n",
        "5.   **Quadratic discriminant analysis** : A classifier with a quadratic decision boundary, generated by fitting class conditional densities to the data and using Bayes’ rule. This is good for bringinig in non-linearity into the function and is more stable than Logistic Regression. The model fits a Gaussian density to each class.\n",
        "6.   **Neural Network (MLP)** : The most basic neural network, single layer. This is our attempt to try to use neural network to this problem.\n",
        "7.   **Deep Neural Network**: While MLP is a single layer network, we try to go further deep in order to explore how much better performance we can achieve with Deep network. We train for 2 epochs to save time.\n",
        "---\n",
        "\n",
        "The metric we use for evaluating the performance of the algorithm would be area under the curve because accuracy can be misleading in such imbalanced datasets. \n",
        "\n",
        "\n",
        "1.   **Area Under the curve (AUC)**: represents likelihood of model distinguishing observations from two classes.\n",
        "2.   **Precision**: It is the number of true positives divided by all positive predictions. It is also called positive predictive value and is a measure of classifier's exactness. Low precision value indicates high number of false positives.\n",
        "\n",
        "\n",
        "\n"
      ]
    },
    {
      "cell_type": "markdown",
      "metadata": {
        "id": "8l6s-ObZkAjr"
      },
      "source": [
        "### Machine Learning Algorithms"
      ]
    },
    {
      "cell_type": "code",
      "metadata": {
        "id": "iuI_Hcb2R7ph"
      },
      "source": [
        "MLA = [\n",
        "    linear_model.LogisticRegressionCV(cv=5),\n",
        "    naive_bayes.GaussianNB(),\n",
        "    tree.DecisionTreeClassifier(max_depth=5),\n",
        "    ensemble.RandomForestClassifier(max_depth=5, n_estimators=10, max_features=1),\n",
        "    discriminant_analysis.QuadraticDiscriminantAnalysis(),\n",
        "    neural_network.MLPClassifier()\n",
        "]\n",
        "\n"
      ],
      "execution_count": null,
      "outputs": []
    },
    {
      "cell_type": "code",
      "metadata": {
        "id": "XHvtsRu0pwZ0"
      },
      "source": [
        "def conv2binary(y_pred_model):\n",
        "    # convert sigmoid continuous values to binary values\n",
        "    y_pred = []\n",
        "    for y in y_pred_model:\n",
        "        if y > 0.5:\n",
        "            y_pred.append(1)\n",
        "        else:\n",
        "            y_pred.append(0)\n",
        "    return y_pred\n",
        "\n",
        "def build_model():\n",
        "    #define the layers of model\n",
        "    model = Sequential()\n",
        "    model.add(Dense(20, activation='relu'))\n",
        "    model.add(Dense(40, activation='relu'))\n",
        "    model.add(Dense(1, activation='sigmoid'))\n",
        "    # Compile model\n",
        "    model.compile(loss='binary_crossentropy', optimizer='adam', metrics=['accuracy'])\n",
        "    return model\n",
        "\n",
        "def deeplearning_model(X_train, y_train, X_test, y_test):\n",
        "    model = build_model()\n",
        "    model.fit(X_train_os, y_train_os, epochs=2, batch_size=1000)\n",
        "\n",
        "    y_pred_model = model.predict(X_test_os).ravel()\n",
        "    y_pred = conv2binary(y_pred_model)\n",
        "\n",
        "    fpr_model, tpr_model, thresholds_model = roc_curve(y_test_os, y_pred_model)\n",
        "    auc_model = auc(fpr_model, tpr_model)\n",
        "    precision_model = (precision_score(y_test_os, y_pred))\n",
        "    accuracy_model = accuracy_score(y_test_os, y_pred)\n",
        "\n",
        "    return \"Deep learning model\", precision_model, accuracy_model, auc_model"
      ],
      "execution_count": null,
      "outputs": []
    },
    {
      "cell_type": "markdown",
      "metadata": {
        "id": "YEYmnC-HNAH1"
      },
      "source": [
        "### Training and testing for the oversampled dataset"
      ]
    },
    {
      "cell_type": "code",
      "metadata": {
        "colab": {
          "base_uri": "https://localhost:8080/",
          "height": 436
        },
        "id": "MK7E_s4PSVP4",
        "outputId": "3d17e646-09e1-4c59-9df8-5a0cbe6f2529"
      },
      "source": [
        "MLA_columns = []\n",
        "MLA_compare_os = pd.DataFrame(columns = MLA_columns)\n",
        "\n",
        "row_index = 0\n",
        "for alg in MLA:\n",
        "    \n",
        "    predicted_os = alg.fit(X_train_os, y_train_os).predict(X_test_os)\n",
        "    fp, tp, th = roc_curve(y_test_os, predicted_os)\n",
        "    MLA_name = alg.__class__.__name__\n",
        "    MLA_compare_os.loc[row_index,'MLA Name for Oversampled Data'] = MLA_name\n",
        "    MLA_compare_os.loc[row_index, 'Precision'] = precision_score(y_test_os, predicted_os)\n",
        "    MLA_compare_os.loc[row_index, 'Accuracy'] = accuracy_score(y_test_os, predicted_os)\n",
        "    MLA_compare_os.loc[row_index, 'AUC'] = auc(fp, tp)\n",
        "    print(\"Algorithm: \", MLA_name, \"done!\")\n",
        "    row_index+=1\n",
        "\n",
        "MLA_name_dl, precision_dl, accuracy_dl, auc_dl = deeplearning_model(X_train_os, y_train_os, X_test_os, y_test_os)\n",
        "MLA_compare_os.loc[row_index, 'MLA Name for Oversampled Data'] = MLA_name_dl\n",
        "MLA_compare_os.loc[row_index, 'Precision'] = precision_dl\n",
        "MLA_compare_os.loc[row_index, 'Accuracy'] = accuracy_dl\n",
        "MLA_compare_os.loc[row_index, 'AUC'] = auc_dl\n",
        "\n",
        "MLA_compare_os.sort_values(by = ['AUC'], ascending = False, inplace = True)\n",
        "MLA_compare_os"
      ],
      "execution_count": null,
      "outputs": [
        {
          "output_type": "stream",
          "text": [
            "Algorithm:  LogisticRegressionCV done!\n",
            "Algorithm:  GaussianNB done!\n",
            "Algorithm:  DecisionTreeClassifier done!\n",
            "Algorithm:  RandomForestClassifier done!\n",
            "Algorithm:  QuadraticDiscriminantAnalysis done!\n",
            "Algorithm:  MLPClassifier done!\n",
            "Epoch 1/2\n",
            "1239/1239 [==============================] - 2s 2ms/step - loss: 0.6298 - accuracy: 0.6488\n",
            "Epoch 2/2\n",
            "1239/1239 [==============================] - 2s 2ms/step - loss: 0.6256 - accuracy: 0.6535\n"
          ],
          "name": "stdout"
        },
        {
          "output_type": "execute_result",
          "data": {
            "text/html": [
              "<div>\n",
              "<style scoped>\n",
              "    .dataframe tbody tr th:only-of-type {\n",
              "        vertical-align: middle;\n",
              "    }\n",
              "\n",
              "    .dataframe tbody tr th {\n",
              "        vertical-align: top;\n",
              "    }\n",
              "\n",
              "    .dataframe thead th {\n",
              "        text-align: right;\n",
              "    }\n",
              "</style>\n",
              "<table border=\"1\" class=\"dataframe\">\n",
              "  <thead>\n",
              "    <tr style=\"text-align: right;\">\n",
              "      <th></th>\n",
              "      <th>MLA Name for Oversampled Data</th>\n",
              "      <th>Precision</th>\n",
              "      <th>Accuracy</th>\n",
              "      <th>AUC</th>\n",
              "    </tr>\n",
              "  </thead>\n",
              "  <tbody>\n",
              "    <tr>\n",
              "      <th>6</th>\n",
              "      <td>Deep learning model</td>\n",
              "      <td>0.649738</td>\n",
              "      <td>0.655519</td>\n",
              "      <td>0.710443</td>\n",
              "    </tr>\n",
              "    <tr>\n",
              "      <th>5</th>\n",
              "      <td>MLPClassifier</td>\n",
              "      <td>0.655597</td>\n",
              "      <td>0.658821</td>\n",
              "      <td>0.658832</td>\n",
              "    </tr>\n",
              "    <tr>\n",
              "      <th>2</th>\n",
              "      <td>DecisionTreeClassifier</td>\n",
              "      <td>0.648421</td>\n",
              "      <td>0.656427</td>\n",
              "      <td>0.656462</td>\n",
              "    </tr>\n",
              "    <tr>\n",
              "      <th>3</th>\n",
              "      <td>RandomForestClassifier</td>\n",
              "      <td>0.678184</td>\n",
              "      <td>0.654014</td>\n",
              "      <td>0.653917</td>\n",
              "    </tr>\n",
              "    <tr>\n",
              "      <th>0</th>\n",
              "      <td>LogisticRegressionCV</td>\n",
              "      <td>0.664629</td>\n",
              "      <td>0.649262</td>\n",
              "      <td>0.649195</td>\n",
              "    </tr>\n",
              "    <tr>\n",
              "      <th>1</th>\n",
              "      <td>GaussianNB</td>\n",
              "      <td>0.560434</td>\n",
              "      <td>0.585640</td>\n",
              "      <td>0.585923</td>\n",
              "    </tr>\n",
              "    <tr>\n",
              "      <th>4</th>\n",
              "      <td>QuadraticDiscriminantAnalysis</td>\n",
              "      <td>0.762407</td>\n",
              "      <td>0.519005</td>\n",
              "      <td>0.518357</td>\n",
              "    </tr>\n",
              "  </tbody>\n",
              "</table>\n",
              "</div>"
            ],
            "text/plain": [
              "   MLA Name for Oversampled Data  Precision  Accuracy       AUC\n",
              "6            Deep learning model   0.649738  0.655519  0.710443\n",
              "5                  MLPClassifier   0.655597  0.658821  0.658832\n",
              "2         DecisionTreeClassifier   0.648421  0.656427  0.656462\n",
              "3         RandomForestClassifier   0.678184  0.654014  0.653917\n",
              "0           LogisticRegressionCV   0.664629  0.649262  0.649195\n",
              "1                     GaussianNB   0.560434  0.585640  0.585923\n",
              "4  QuadraticDiscriminantAnalysis   0.762407  0.519005  0.518357"
            ]
          },
          "metadata": {
            "tags": []
          },
          "execution_count": 62
        }
      ]
    },
    {
      "cell_type": "markdown",
      "metadata": {
        "id": "-YpNwtG5P_S7"
      },
      "source": [
        "### Training and Testing for the undersampled dataset "
      ]
    },
    {
      "cell_type": "code",
      "metadata": {
        "colab": {
          "base_uri": "https://localhost:8080/",
          "height": 436
        },
        "id": "Q2bdWWL1QAAU",
        "outputId": "327386fc-27b1-447d-f06d-2f4ea22514e0"
      },
      "source": [
        "MLA_columns = []\n",
        "MLA_compare_us = pd.DataFrame(columns = MLA_columns)\n",
        "\n",
        "row_index = 0\n",
        "for alg in MLA:\n",
        "    predicted_us = alg.fit(X_train_us, y_train_us).predict(X_test_us)\n",
        "    fp, tp, th = roc_curve(y_test_us, predicted_us)\n",
        "    MLA_name = alg.__class__.__name__\n",
        "    MLA_compare_us.loc[row_index,'MLA Name for Undersampled Data'] = MLA_name\n",
        "    MLA_compare_us.loc[row_index, 'Precision'] = precision_score(y_test_us, predicted_us)\n",
        "    MLA_compare_us.loc[row_index, 'Accuracy'] = accuracy_score(y_test_us, predicted_us)\n",
        "    MLA_compare_us.loc[row_index, 'AUC'] = auc(fp, tp)\n",
        "    print(\"Algorithm: \", MLA_name, \"done!\")\n",
        "    row_index+=1\n",
        "MLA_name_dl, precision_dl, accuracy_dl, auc_dl = deeplearning_model(X_train_us, y_train_us, X_test_us, y_test_us)\n",
        "MLA_compare_us.loc[row_index, 'MLA Name for Undersampled Data'] = MLA_name_dl\n",
        "MLA_compare_us.loc[row_index, 'Precision'] = precision_dl\n",
        "MLA_compare_us.loc[row_index, 'Accuracy'] = accuracy_dl\n",
        "MLA_compare_us.loc[row_index, 'AUC'] = auc_dl\n",
        "MLA_compare_us.sort_values(by = ['AUC'], ascending = False, inplace = True)\n",
        "MLA_compare_us"
      ],
      "execution_count": null,
      "outputs": [
        {
          "output_type": "stream",
          "text": [
            "Algorithm:  LogisticRegressionCV done!\n",
            "Algorithm:  GaussianNB done!\n",
            "Algorithm:  DecisionTreeClassifier done!\n",
            "Algorithm:  RandomForestClassifier done!\n",
            "Algorithm:  QuadraticDiscriminantAnalysis done!\n",
            "Algorithm:  MLPClassifier done!\n",
            "Epoch 1/2\n",
            "1239/1239 [==============================] - 3s 2ms/step - loss: 0.6299 - accuracy: 0.6486\n",
            "Epoch 2/2\n",
            "1239/1239 [==============================] - 2s 2ms/step - loss: 0.6253 - accuracy: 0.6531\n"
          ],
          "name": "stdout"
        },
        {
          "output_type": "execute_result",
          "data": {
            "text/html": [
              "<div>\n",
              "<style scoped>\n",
              "    .dataframe tbody tr th:only-of-type {\n",
              "        vertical-align: middle;\n",
              "    }\n",
              "\n",
              "    .dataframe tbody tr th {\n",
              "        vertical-align: top;\n",
              "    }\n",
              "\n",
              "    .dataframe thead th {\n",
              "        text-align: right;\n",
              "    }\n",
              "</style>\n",
              "<table border=\"1\" class=\"dataframe\">\n",
              "  <thead>\n",
              "    <tr style=\"text-align: right;\">\n",
              "      <th></th>\n",
              "      <th>MLA Name for Undersampled Data</th>\n",
              "      <th>Precision</th>\n",
              "      <th>Accuracy</th>\n",
              "      <th>AUC</th>\n",
              "    </tr>\n",
              "  </thead>\n",
              "  <tbody>\n",
              "    <tr>\n",
              "      <th>6</th>\n",
              "      <td>Deep learning model</td>\n",
              "      <td>0.653334</td>\n",
              "      <td>0.654492</td>\n",
              "      <td>0.710281</td>\n",
              "    </tr>\n",
              "    <tr>\n",
              "      <th>5</th>\n",
              "      <td>MLPClassifier</td>\n",
              "      <td>0.672087</td>\n",
              "      <td>0.646467</td>\n",
              "      <td>0.647249</td>\n",
              "    </tr>\n",
              "    <tr>\n",
              "      <th>2</th>\n",
              "      <td>DecisionTreeClassifier</td>\n",
              "      <td>0.652922</td>\n",
              "      <td>0.646869</td>\n",
              "      <td>0.646857</td>\n",
              "    </tr>\n",
              "    <tr>\n",
              "      <th>3</th>\n",
              "      <td>RandomForestClassifier</td>\n",
              "      <td>0.666365</td>\n",
              "      <td>0.641232</td>\n",
              "      <td>0.642019</td>\n",
              "    </tr>\n",
              "    <tr>\n",
              "      <th>0</th>\n",
              "      <td>LogisticRegressionCV</td>\n",
              "      <td>0.663505</td>\n",
              "      <td>0.638816</td>\n",
              "      <td>0.639597</td>\n",
              "    </tr>\n",
              "    <tr>\n",
              "      <th>4</th>\n",
              "      <td>QuadraticDiscriminantAnalysis</td>\n",
              "      <td>0.590997</td>\n",
              "      <td>0.607006</td>\n",
              "      <td>0.605274</td>\n",
              "    </tr>\n",
              "    <tr>\n",
              "      <th>1</th>\n",
              "      <td>GaussianNB</td>\n",
              "      <td>0.570891</td>\n",
              "      <td>0.591705</td>\n",
              "      <td>0.589003</td>\n",
              "    </tr>\n",
              "  </tbody>\n",
              "</table>\n",
              "</div>"
            ],
            "text/plain": [
              "  MLA Name for Undersampled Data  Precision  Accuracy       AUC\n",
              "6            Deep learning model   0.653334  0.654492  0.710281\n",
              "5                  MLPClassifier   0.672087  0.646467  0.647249\n",
              "2         DecisionTreeClassifier   0.652922  0.646869  0.646857\n",
              "3         RandomForestClassifier   0.666365  0.641232  0.642019\n",
              "0           LogisticRegressionCV   0.663505  0.638816  0.639597\n",
              "4  QuadraticDiscriminantAnalysis   0.590997  0.607006  0.605274\n",
              "1                     GaussianNB   0.570891  0.591705  0.589003"
            ]
          },
          "metadata": {
            "tags": []
          },
          "execution_count": 56
        }
      ]
    },
    {
      "cell_type": "code",
      "metadata": {
        "colab": {
          "base_uri": "https://localhost:8080/"
        },
        "id": "JFzb0O89zUy-",
        "outputId": "cd4650c1-6569-4673-f163-5c2cef1bd013"
      },
      "source": [
        "print(MLA_compare_os)\n",
        "print(MLA_compare_us)"
      ],
      "execution_count": null,
      "outputs": [
        {
          "output_type": "stream",
          "text": [
            "   MLA Name for Oversampled Data  Precision  Accuracy       AUC\n",
            "6            Deep learning model   0.649738  0.655519  0.710443\n",
            "5                  MLPClassifier   0.655597  0.658821  0.658832\n",
            "2         DecisionTreeClassifier   0.648421  0.656427  0.656462\n",
            "3         RandomForestClassifier   0.678184  0.654014  0.653917\n",
            "0           LogisticRegressionCV   0.664629  0.649262  0.649195\n",
            "1                     GaussianNB   0.560434  0.585640  0.585923\n",
            "4  QuadraticDiscriminantAnalysis   0.762407  0.519005  0.518357\n",
            "  MLA Name for Undersampled Data  Precision  Accuracy       AUC\n",
            "6            Deep learning model   0.653334  0.654492  0.710281\n",
            "5                  MLPClassifier   0.672087  0.646467  0.647249\n",
            "2         DecisionTreeClassifier   0.652922  0.646869  0.646857\n",
            "3         RandomForestClassifier   0.666365  0.641232  0.642019\n",
            "0           LogisticRegressionCV   0.663505  0.638816  0.639597\n",
            "4  QuadraticDiscriminantAnalysis   0.590997  0.607006  0.605274\n",
            "1                     GaussianNB   0.570891  0.591705  0.589003\n"
          ],
          "name": "stdout"
        }
      ]
    },
    {
      "cell_type": "markdown",
      "metadata": {
        "id": "WbjWi87tQ9x6"
      },
      "source": [
        "# Conclusion\n",
        "\n",
        "In order to deal with class imbalance problems, we have to make sure that we consider data from all classes equally. However, there can be problems that we might run into and this can lead to poor performances.\n",
        "\n",
        "\n",
        "---\n",
        "\n",
        "One of the major disadvantages of using under-sampling is that it can discard potentially useful information which can be useful in building classifiers. Also, it might be the case that the samples chosen in undersampling might not represent the population accurately and hence might fail on test dataset. Despite all this, it can train faster and give a quick glance into the prediction performance of the model/algorithms which can be used to build upon more complex algorithms.\n",
        "\n",
        "---\n",
        "\n",
        "On the other hand, over-sampling does not lead to information loss, and it can outperform under-sampling, which we see in the results. However, because the information is repeated, there is a chance of overfitting."
      ]
    },
    {
      "cell_type": "markdown",
      "metadata": {
        "id": "d-TewAbCSJqu"
      },
      "source": [
        "# Future tasks\n",
        "\n",
        "\n",
        "\n",
        "\n"
      ]
    },
    {
      "cell_type": "markdown",
      "metadata": {
        "id": "u-QeXMlJTaCS"
      },
      "source": [
        "Given more time, I would like to explore more techniques of over-sampling and under-sampling and work with them to evaluate the models better. I would have wanted to use \"Tomek links\" technique for undersampling, though it does not reduce the majority class samples significantly but it helps in bringing number of samples at par for all the classes. Also, I would have wanted to evaluate the performance of \"NearMiss\" under-sampling technique. \n",
        "\n",
        "For training the models, I would have wanted to use adaptive learning rate for neural networks with SGD and also a penalty factor for mistakes on classifying the minority class. It would have been a good exercise to perform grid search to get the best hyperparameters for all the algorithms.\n",
        "\n",
        "Also, there are different other algorithms that can be tried for the given problem and I would have loved to use them from both classical AI and deep learning. \n",
        "From deep learning , we used deeper fully connected networks to increase the complexity of the model which infact performs the best. We could introduce dropout to increase the generalisation power of the network. We could also use CNNs because they are able to capture most important representations from a dataset. If there is some sequential relationship that is underlying the dataset, we could make use of RNNs as well."
      ]
    }
  ]
}